{
 "cells": [
  {
   "cell_type": "code",
   "execution_count": 5,
   "metadata": {},
   "outputs": [],
   "source": [
    "import glob\n",
    "from PIL import Image\n",
    "images = glob.glob('C:\\\\python\\\\id-classification\\\\category1\\\\G2\\\\*.jpg')\n",
    "##print((image))\n",
    "i=0\n",
    "for image in images:\n",
    "    i=i+1\n",
    "    image=Image.open(image)\n",
    "    ##print(image)\n",
    "    image=image.resize((96,96))\n",
    "    image.save(\"C:\\\\python\\\\id-classification\\\\category1\\\\G2\\\\\"+str(i)+\".jpg\")"
   ]
  },
  {
   "cell_type": "code",
   "execution_count": null,
   "metadata": {},
   "outputs": [],
   "source": []
  }
 ],
 "metadata": {
  "kernelspec": {
   "display_name": "Python 3",
   "language": "python",
   "name": "python3"
  },
  "language_info": {
   "codemirror_mode": {
    "name": "ipython",
    "version": 3
   },
   "file_extension": ".py",
   "mimetype": "text/x-python",
   "name": "python",
   "nbconvert_exporter": "python",
   "pygments_lexer": "ipython3",
   "version": "3.7.6"
  }
 },
 "nbformat": 4,
 "nbformat_minor": 4
}
