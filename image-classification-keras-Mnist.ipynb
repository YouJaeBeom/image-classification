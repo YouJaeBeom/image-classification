{
 "cells": [
  {
   "cell_type": "markdown",
   "metadata": {},
   "source": [
    "# keras "
   ]
  },
  {
   "cell_type": "code",
   "execution_count": 20,
   "metadata": {},
   "outputs": [],
   "source": [
    "import keras\n",
    "keras.__version__\n",
    "from keras.datasets import mnist\n",
    "from keras.models import Sequential\n",
    "from keras import layers\n",
    "from keras.layers import Dense, Dropout, Flatten\n",
    "from keras.utils import to_categorical\n",
    "from keras.layers.convolutional import Conv2D, MaxPooling2D"
   ]
  },
  {
   "cell_type": "code",
   "execution_count": 21,
   "metadata": {},
   "outputs": [],
   "source": [
    "(train_images, train_labels), (test_images, test_labels) = mnist.load_data()\n",
    "## mnist데이터 훈련 세트구성 "
   ]
  },
  {
   "cell_type": "code",
   "execution_count": 22,
   "metadata": {},
   "outputs": [],
   "source": [
    "img_rows = 28\n",
    "img_cols = 28\n",
    "input_shape = (img_rows, img_cols, 1)\n",
    "train_images = train_images.reshape((train_images.shape[0], img_rows, img_cols, 1))\n",
    "train_images = train_images.astype('float32') / 255\n",
    "\n",
    "test_images = test_images.reshape((test_images.shape[0],img_rows, img_cols, 1))\n",
    "test_images = test_images.astype('float32') / 255\n",
    "\n",
    "num_classes = 10\n",
    "train_labels = to_categorical(train_labels,num_classes)\n",
    "test_labels = to_categorical(test_labels,num_classes)"
   ]
  },
  {
   "cell_type": "code",
   "execution_count": 23,
   "metadata": {
    "scrolled": true
   },
   "outputs": [
    {
     "name": "stdout",
     "output_type": "stream",
     "text": [
      "Model: \"sequential_5\"\n",
      "_________________________________________________________________\n",
      "Layer (type)                 Output Shape              Param #   \n",
      "=================================================================\n",
      "conv2d_3 (Conv2D)            (None, 28, 28, 32)        832       \n",
      "_________________________________________________________________\n",
      "max_pooling2d_3 (MaxPooling2 (None, 14, 14, 32)        0         \n",
      "_________________________________________________________________\n",
      "conv2d_4 (Conv2D)            (None, 14, 14, 64)        8256      \n",
      "_________________________________________________________________\n",
      "max_pooling2d_4 (MaxPooling2 (None, 7, 7, 64)          0         \n",
      "_________________________________________________________________\n",
      "dropout_1 (Dropout)          (None, 7, 7, 64)          0         \n",
      "_________________________________________________________________\n",
      "flatten_1 (Flatten)          (None, 3136)              0         \n",
      "_________________________________________________________________\n",
      "dense_3 (Dense)              (None, 1000)              3137000   \n",
      "_________________________________________________________________\n",
      "dropout_2 (Dropout)          (None, 1000)              0         \n",
      "_________________________________________________________________\n",
      "dense_4 (Dense)              (None, 10)                10010     \n",
      "=================================================================\n",
      "Total params: 3,156,098\n",
      "Trainable params: 3,156,098\n",
      "Non-trainable params: 0\n",
      "_________________________________________________________________\n"
     ]
    }
   ],
   "source": [
    "model = Sequential()\n",
    "model.add(Conv2D(32, kernel_size=(5, 5), strides=(1, 1), padding='same',\n",
    "                 activation='relu',\n",
    "                 input_shape=(28,28,1)))\n",
    "model.add(MaxPooling2D(pool_size=(2, 2), strides=(2, 2)))\n",
    "model.add(Conv2D(64, (2, 2), activation='relu', padding='same'))\n",
    "model.add(MaxPooling2D(pool_size=(2, 2)))\n",
    "model.add(Dropout(0.25))\n",
    "model.add(Flatten())\n",
    "model.add(Dense(1000, activation='relu'))\n",
    "model.add(Dropout(0.5))\n",
    "model.add(Dense(num_classes, activation='softmax'))\n",
    "model.summary()\n",
    "## keras 신경망 구성요소 "
   ]
  },
  {
   "cell_type": "code",
   "execution_count": 25,
   "metadata": {
    "scrolled": true
   },
   "outputs": [
    {
     "name": "stdout",
     "output_type": "stream",
     "text": [
      "WARNING:tensorflow:From D:\\anaconda3\\lib\\site-packages\\keras\\backend\\tensorflow_backend.py:422: The name tf.global_variables is deprecated. Please use tf.compat.v1.global_variables instead.\n",
      "\n",
      "Train on 60000 samples, validate on 10000 samples\n",
      "Epoch 1/12\n",
      "60000/60000 [==============================] - 49s 815us/step - loss: 0.1893 - accuracy: 0.9417 - val_loss: 0.0430 - val_accuracy: 0.9851\n",
      "Epoch 2/12\n",
      "60000/60000 [==============================] - 49s 812us/step - loss: 0.0574 - accuracy: 0.9821 - val_loss: 0.0370 - val_accuracy: 0.9870\n",
      "Epoch 3/12\n",
      "60000/60000 [==============================] - 50s 838us/step - loss: 0.0434 - accuracy: 0.9863 - val_loss: 0.0269 - val_accuracy: 0.9919\n",
      "Epoch 4/12\n",
      "60000/60000 [==============================] - 45s 746us/step - loss: 0.0353 - accuracy: 0.9890 - val_loss: 0.0238 - val_accuracy: 0.9921\n",
      "Epoch 5/12\n",
      "60000/60000 [==============================] - 45s 745us/step - loss: 0.0299 - accuracy: 0.9904 - val_loss: 0.0237 - val_accuracy: 0.9916\n",
      "Epoch 6/12\n",
      "60000/60000 [==============================] - 47s 779us/step - loss: 0.0249 - accuracy: 0.9916 - val_loss: 0.0243 - val_accuracy: 0.9926\n",
      "Epoch 7/12\n",
      "60000/60000 [==============================] - 51s 843us/step - loss: 0.0222 - accuracy: 0.9929 - val_loss: 0.0220 - val_accuracy: 0.9935\n",
      "Epoch 8/12\n",
      "60000/60000 [==============================] - 51s 847us/step - loss: 0.0195 - accuracy: 0.9937 - val_loss: 0.0214 - val_accuracy: 0.9931\n",
      "Epoch 9/12\n",
      "60000/60000 [==============================] - 49s 818us/step - loss: 0.0170 - accuracy: 0.9945 - val_loss: 0.0225 - val_accuracy: 0.9926\n",
      "Epoch 10/12\n",
      "60000/60000 [==============================] - 53s 882us/step - loss: 0.0171 - accuracy: 0.9944 - val_loss: 0.0235 - val_accuracy: 0.9926\n",
      "Epoch 11/12\n",
      "60000/60000 [==============================] - 51s 846us/step - loss: 0.0145 - accuracy: 0.9950 - val_loss: 0.0223 - val_accuracy: 0.9937\n",
      "Epoch 12/12\n",
      "60000/60000 [==============================] - 53s 879us/step - loss: 0.0136 - accuracy: 0.9955 - val_loss: 0.0233 - val_accuracy: 0.9927\n"
     ]
    }
   ],
   "source": [
    "model.compile(loss='categorical_crossentropy', optimizer='adam', metrics=['accuracy'])\n",
    "hist = model.fit(train_images, train_labels,\n",
    "                 batch_size=128,\n",
    "                 epochs=12,\n",
    "                 verbose=1, \n",
    "                 validation_data=(test_images, test_labels))"
   ]
  },
  {
   "cell_type": "code",
   "execution_count": 27,
   "metadata": {},
   "outputs": [
    {
     "name": "stdout",
     "output_type": "stream",
     "text": [
      "Test loss: 0.02333624084459684\n",
      "Test accuracy: 0.9926999807357788\n"
     ]
    }
   ],
   "source": [
    "score = model.evaluate(test_images, test_labels, verbose=0)\n",
    "print('Test loss:', score[0])\n",
    "print('Test accuracy:', score[1])"
   ]
  },
  {
   "cell_type": "code",
   "execution_count": 31,
   "metadata": {},
   "outputs": [
    {
     "data": {
      "image/png": "[encoded data removed]",
      "text/plain": [
       "<Figure size 432x288 with 2 Axes>"
      ]
     },
     "metadata": {
      "needs_background": "light"
     },
     "output_type": "display_data"
    }
   ],
   "source": [
    "\n",
    "%matplotlib inline\n",
    "import matplotlib.pyplot as plt\n",
    "\n",
    "fig, loss_ax = plt.subplots()\n",
    "\n",
    "acc_ax = loss_ax.twinx()\n",
    "\n",
    "loss_ax.plot(hist.history['loss'], 'y', label='train loss')\n",
    "loss_ax.plot(hist.history['val_loss'], 'r', label='val loss')\n",
    "\n",
    "acc_ax.plot(hist.history['accuracy'], 'b', label='train acc')\n",
    "acc_ax.plot(hist.history['val_accuracy'], 'g', label='val acc')\n",
    "\n",
    "loss_ax.set_xlabel('Epoch ')\n",
    "loss_ax.set_ylabel('loss')\n",
    "acc_ax.set_ylabel('accuray')\n",
    "\n",
    "loss_ax.legend(loc='upper left')\n",
    "acc_ax.legend(loc='lower left')\n",
    "\n",
    "plt.show()"
   ]
  },
  {
   "cell_type": "code",
   "execution_count": null,
   "metadata": {},
   "outputs": [],
   "source": []
  }
 ],
 "metadata": {
  "kernelspec": {
   "display_name": "Python 3",
   "language": "python",
   "name": "python3"
  },
  "language_info": {
   "codemirror_mode": {
    "name": "ipython",
    "version": 3
   },
   "file_extension": ".py",
   "mimetype": "text/x-python",
   "name": "python",
   "nbconvert_exporter": "python",
   "pygments_lexer": "ipython3",
   "version": "3.7.6"
  }
 },
 "nbformat": 4,
 "nbformat_minor": 4
}
